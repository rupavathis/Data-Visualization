{
    "cells": [
        {
            "cell_type": "code",
            "execution_count": 4,
            "source": [
                "countries=['United States','Germany', 'Great Britain','Russia','China','France','Australia','Italy','Canada','Japan']\n",
                "\n",
                "bronze=[67,67,26,35,35,21,25,24,61,34]\n",
                "\n",
                "gold=[137,47,64,50,44,20,23,8,4,17]\n",
                "\n",
                "silver=[52,43,55,28,30,55,34,38,4,13]"
            ],
            "outputs": [],
            "metadata": {}
        },
        {
            "cell_type": "code",
            "execution_count": null,
            "source": [
                "import matplotlib.pyplot as plt\n",
                "import numpy as np"
            ],
            "outputs": [],
            "metadata": {}
        },
        {
            "cell_type": "code",
            "execution_count": 17,
            "source": [
                "fig, ax = plt.subplots()\n",
                "\n",
                "np_gold = np.array(gold)\n",
                "np_silver = np.array(silver)\n",
                "np_bronze = np.array(bronze)\n"
            ],
            "outputs": [
                {
                    "output_type": "display_data",
                    "data": {
                        "text/plain": [
                            "<Figure size 432x288 with 1 Axes>"
                        ],
                        "image/png": "[encoded data removed]"
                    },
                    "metadata": {
                        "needs_background": "light"
                    }
                },
                {
                    "output_type": "display_data",
                    "data": {
                        "text/plain": [
                            "<Figure size 3600x1440 with 0 Axes>"
                        ]
                    },
                    "metadata": {}
                }
            ],
            "metadata": {}
        },
        {
            "cell_type": "code",
            "execution_count": null,
            "source": [
                "ax.bar(countries, np_gold, label=\"Gold\")\n",
                "\n",
                "# Stack bars for \"Silver\" on top with label \"Silver\"\n",
                "ax.bar(countries, np_silver, bottom=np_gold, label=\"Silver\")\n",
                "\n",
                "# Stack bars for \"Bronze\" on top of that with label \"Bronze\"\n",
                "ax.bar(countries, np_bronze, bottom=np_gold+np_silver, label=\"Bronze\")\n",
                "\n",
                "# Display the legend\n",
                "ax.legend()\n",
                "fig = plt.figure(figsize=(50,20))\n",
                "plt.show()"
            ],
            "outputs": [],
            "metadata": {}
        }
    ],
    "metadata": {
        "orig_nbformat": 4,
        "kernelspec": {
            "name": "python3",
            "display_name": "Python 3 (ipykernel)",
            "language": "python"
        },
        "language_info": {
            "name": "python",
            "version": "3.8.5",
            "mimetype": "text/x-python",
            "codemirror_mode": {
                "name": "ipython",
                "version": 3
            },
            "pygments_lexer": "ipython3",
            "nbconvert_exporter": "python",
            "file_extension": ".py"
        }
    },
    "nbformat": 4,
    "nbformat_minor": 2
}